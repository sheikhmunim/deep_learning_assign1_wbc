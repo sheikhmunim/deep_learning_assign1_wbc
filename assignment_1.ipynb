{
 "cells": [
  {
   "cell_type": "code",
   "execution_count": 1,
   "id": "6a6ed781-a3d4-4f47-be80-9797f772f7aa",
   "metadata": {},
   "outputs": [
    {
     "name": "stderr",
     "output_type": "stream",
     "text": [
      "/home/ec2-user/anaconda3/envs/tensorflow2_p310/lib/python3.10/site-packages/pandas/core/computation/expressions.py:21: UserWarning: Pandas requires version '2.8.4' or newer of 'numexpr' (version '2.7.3' currently installed).\n",
      "  from pandas.core.computation.check import NUMEXPR_INSTALLED\n",
      "2025-08-09 10:07:14.003778: I tensorflow/core/util/port.cc:113] oneDNN custom operations are on. You may see slightly different numerical results due to floating-point round-off errors from different computation orders. To turn them off, set the environment variable `TF_ENABLE_ONEDNN_OPTS=0`.\n",
      "2025-08-09 10:07:15.578123: E external/local_xla/xla/stream_executor/cuda/cuda_fft.cc:479] Unable to register cuFFT factory: Attempting to register factory for plugin cuFFT when one has already been registered\n",
      "2025-08-09 10:07:15.831863: E external/local_xla/xla/stream_executor/cuda/cuda_dnn.cc:10575] Unable to register cuDNN factory: Attempting to register factory for plugin cuDNN when one has already been registered\n",
      "2025-08-09 10:07:15.833937: E external/local_xla/xla/stream_executor/cuda/cuda_blas.cc:1442] Unable to register cuBLAS factory: Attempting to register factory for plugin cuBLAS when one has already been registered\n",
      "2025-08-09 10:07:20.925149: I tensorflow/core/platform/cpu_feature_guard.cc:210] This TensorFlow binary is optimized to use available CPU instructions in performance-critical operations.\n",
      "To enable the following instructions: AVX2 AVX512F AVX512_VNNI FMA, in other operations, rebuild TensorFlow with the appropriate compiler flags.\n",
      "2025-08-09 10:07:28.274725: W tensorflow/compiler/tf2tensorrt/utils/py_utils.cc:38] TF-TRT Warning: Could not find TensorRT\n"
     ]
    }
   ],
   "source": [
    "import pandas as pd\n",
    "import os\n",
    "from PIL import Image\n",
    "import matplotlib.pyplot as plt\n",
    "import tensorflow as tf\n",
    "import seaborn as sns\n",
    "import random\n",
    "import numpy as np\n",
    "import tensorflow as tf\n",
    "from sklearn.preprocessing import LabelEncoder\n",
    "from tensorflow.keras.utils import to_categorical\n",
    "from sklearn.model_selection import train_test_split\n",
    "from sklearn.metrics import classification_report, confusion_matrix, ConfusionMatrixDisplay, precision_score, recall_score, f1_score, roc_auc_score, matthews_corrcoef\n",
    "from tensorflow.keras import Sequential\n",
    "from tensorflow.keras.layers import Flatten, Dense"
   ]
  },
  {
   "cell_type": "code",
   "execution_count": 2,
   "id": "c761671d-e347-410a-a6b9-c33bc03d7f42",
   "metadata": {},
   "outputs": [
    {
     "name": "stdout",
     "output_type": "stream",
     "text": [
      "Num GPUs Available: 1\n"
     ]
    },
    {
     "name": "stderr",
     "output_type": "stream",
     "text": [
      "2025-08-09 10:07:55.964150: I external/local_xla/xla/stream_executor/cuda/cuda_executor.cc:998] successful NUMA node read from SysFS had negative value (-1), but there must be at least one NUMA node, so returning NUMA node zero. See more at https://github.com/torvalds/linux/blob/v6.0/Documentation/ABI/testing/sysfs-bus-pci#L344-L355\n",
      "2025-08-09 10:08:01.976092: I external/local_xla/xla/stream_executor/cuda/cuda_executor.cc:998] successful NUMA node read from SysFS had negative value (-1), but there must be at least one NUMA node, so returning NUMA node zero. See more at https://github.com/torvalds/linux/blob/v6.0/Documentation/ABI/testing/sysfs-bus-pci#L344-L355\n",
      "2025-08-09 10:08:01.979871: I external/local_xla/xla/stream_executor/cuda/cuda_executor.cc:998] successful NUMA node read from SysFS had negative value (-1), but there must be at least one NUMA node, so returning NUMA node zero. See more at https://github.com/torvalds/linux/blob/v6.0/Documentation/ABI/testing/sysfs-bus-pci#L344-L355\n"
     ]
    }
   ],
   "source": [
    "print(\"Num GPUs Available:\", len(tf.config.list_physical_devices('GPU')))"
   ]
  },
  {
   "cell_type": "code",
   "execution_count": 3,
   "id": "79b70ed3-98af-4795-977c-5bf438bf640c",
   "metadata": {},
   "outputs": [],
   "source": [
    "#setting random seed\n",
    "seed = 42 \n",
    "random.seed(seed)\n",
    "\n",
    "#setting seed for NumPy\n",
    "np.random.seed(seed)\n",
    "\n",
    "#setting seed for TensorFlow\n",
    "tf.random.set_seed(seed)\n",
    "\n",
    "#setting seed for full reproducibility (slower but stricter)\n",
    "os.environ['PYTHONHASHSEED'] = str(seed)\n",
    "os.environ['TF_DETERMINISTIC_OPS'] = '1'"
   ]
  },
  {
   "cell_type": "code",
   "execution_count": 4,
   "id": "bab61e57-111c-42a6-98c2-4d32fb3dd44d",
   "metadata": {},
   "outputs": [
    {
     "data": {
      "text/html": [
       "<div>\n",
       "<style scoped>\n",
       "    .dataframe tbody tr th:only-of-type {\n",
       "        vertical-align: middle;\n",
       "    }\n",
       "\n",
       "    .dataframe tbody tr th {\n",
       "        vertical-align: top;\n",
       "    }\n",
       "\n",
       "    .dataframe thead th {\n",
       "        text-align: right;\n",
       "    }\n",
       "</style>\n",
       "<table border=\"1\" class=\"dataframe\">\n",
       "  <thead>\n",
       "    <tr style=\"text-align: right;\">\n",
       "      <th></th>\n",
       "      <th>imageID</th>\n",
       "      <th>label</th>\n",
       "      <th>cell_shape</th>\n",
       "      <th>nucleus_shape</th>\n",
       "      <th>cytoplasm_vacuole</th>\n",
       "    </tr>\n",
       "  </thead>\n",
       "  <tbody>\n",
       "    <tr>\n",
       "      <th>0</th>\n",
       "      <td>Img_00001</td>\n",
       "      <td>Lymphocyte</td>\n",
       "      <td>round</td>\n",
       "      <td>unsegmented-round</td>\n",
       "      <td>no</td>\n",
       "    </tr>\n",
       "    <tr>\n",
       "      <th>1</th>\n",
       "      <td>Img_00002</td>\n",
       "      <td>Monocyte</td>\n",
       "      <td>irregular</td>\n",
       "      <td>unsegmented-indented</td>\n",
       "      <td>no</td>\n",
       "    </tr>\n",
       "    <tr>\n",
       "      <th>2</th>\n",
       "      <td>Img_00003</td>\n",
       "      <td>Monocyte</td>\n",
       "      <td>irregular</td>\n",
       "      <td>irregular</td>\n",
       "      <td>yes</td>\n",
       "    </tr>\n",
       "    <tr>\n",
       "      <th>3</th>\n",
       "      <td>Img_00004</td>\n",
       "      <td>Basophil</td>\n",
       "      <td>round</td>\n",
       "      <td>segmented-multilobed</td>\n",
       "      <td>no</td>\n",
       "    </tr>\n",
       "    <tr>\n",
       "      <th>4</th>\n",
       "      <td>Img_00005</td>\n",
       "      <td>Neutrophil</td>\n",
       "      <td>round</td>\n",
       "      <td>unsegmented-band</td>\n",
       "      <td>no</td>\n",
       "    </tr>\n",
       "  </tbody>\n",
       "</table>\n",
       "</div>"
      ],
      "text/plain": [
       "     imageID       label cell_shape         nucleus_shape cytoplasm_vacuole\n",
       "0  Img_00001  Lymphocyte      round     unsegmented-round                no\n",
       "1  Img_00002    Monocyte  irregular  unsegmented-indented                no\n",
       "2  Img_00003    Monocyte  irregular             irregular               yes\n",
       "3  Img_00004    Basophil      round  segmented-multilobed                no\n",
       "4  Img_00005  Neutrophil      round      unsegmented-band                no"
      ]
     },
     "execution_count": 4,
     "metadata": {},
     "output_type": "execute_result"
    }
   ],
   "source": [
    "data_labels = pd.read_csv('dev_data_2025.csv')\n",
    "data_labels.head()"
   ]
  },
  {
   "cell_type": "code",
   "execution_count": 5,
   "id": "f01c881e-1d05-46d7-bc1e-263af9e9ab11",
   "metadata": {},
   "outputs": [
    {
     "name": "stdout",
     "output_type": "stream",
     "text": [
      "Total Number of Images:10298\n"
     ]
    }
   ],
   "source": [
    "image_path = \"Hematoxylin/\"\n",
    "images = os.listdir(image_path)\n",
    "print(f\"Total Number of Images:{len(images)}\")"
   ]
  },
  {
   "cell_type": "code",
   "execution_count": 9,
   "id": "e596d73d-a987-4f6b-827a-6099a6f78a2d",
   "metadata": {},
   "outputs": [
    {
     "name": "stdout",
     "output_type": "stream",
     "text": [
      "Images in labels_main but missing from patch_images folder: 5000\n"
     ]
    }
   ],
   "source": [
    "\n",
    "images_set = set(images)\n",
    "csv_images_set = set(data_labels['imageID'].astype(str))\n",
    "print(\"Images in labels_main but missing from patch_images folder:\", len(csv_images_set - images_set))\n",
    "\n",
    "#use only images that are listed in the CSV file\n",
    "images_filtered = [img for img in images if img in csv_images_set]"
   ]
  },
  {
   "cell_type": "code",
   "execution_count": 19,
   "id": "fb3cde45-90f7-4329-ae58-5771cbc2beba",
   "metadata": {},
   "outputs": [
    {
     "data": {
      "text/html": [
       "<div>\n",
       "<style scoped>\n",
       "    .dataframe tbody tr th:only-of-type {\n",
       "        vertical-align: middle;\n",
       "    }\n",
       "\n",
       "    .dataframe tbody tr th {\n",
       "        vertical-align: top;\n",
       "    }\n",
       "\n",
       "    .dataframe thead th {\n",
       "        text-align: right;\n",
       "    }\n",
       "</style>\n",
       "<table border=\"1\" class=\"dataframe\">\n",
       "  <thead>\n",
       "    <tr style=\"text-align: right;\">\n",
       "      <th></th>\n",
       "      <th>imageID</th>\n",
       "      <th>label</th>\n",
       "      <th>cell_shape</th>\n",
       "      <th>nucleus_shape</th>\n",
       "      <th>cytoplasm_vacuole</th>\n",
       "      <th>Image</th>\n",
       "    </tr>\n",
       "  </thead>\n",
       "  <tbody>\n",
       "    <tr>\n",
       "      <th>0</th>\n",
       "      <td>Img_00001</td>\n",
       "      <td>Lymphocyte</td>\n",
       "      <td>round</td>\n",
       "      <td>unsegmented-round</td>\n",
       "      <td>no</td>\n",
       "      <td>NaN</td>\n",
       "    </tr>\n",
       "    <tr>\n",
       "      <th>1</th>\n",
       "      <td>Img_00002</td>\n",
       "      <td>Monocyte</td>\n",
       "      <td>irregular</td>\n",
       "      <td>unsegmented-indented</td>\n",
       "      <td>no</td>\n",
       "      <td>NaN</td>\n",
       "    </tr>\n",
       "    <tr>\n",
       "      <th>2</th>\n",
       "      <td>Img_00003</td>\n",
       "      <td>Monocyte</td>\n",
       "      <td>irregular</td>\n",
       "      <td>irregular</td>\n",
       "      <td>yes</td>\n",
       "      <td>NaN</td>\n",
       "    </tr>\n",
       "    <tr>\n",
       "      <th>3</th>\n",
       "      <td>Img_00004</td>\n",
       "      <td>Basophil</td>\n",
       "      <td>round</td>\n",
       "      <td>segmented-multilobed</td>\n",
       "      <td>no</td>\n",
       "      <td>NaN</td>\n",
       "    </tr>\n",
       "    <tr>\n",
       "      <th>4</th>\n",
       "      <td>Img_00005</td>\n",
       "      <td>Neutrophil</td>\n",
       "      <td>round</td>\n",
       "      <td>unsegmented-band</td>\n",
       "      <td>no</td>\n",
       "      <td>NaN</td>\n",
       "    </tr>\n",
       "    <tr>\n",
       "      <th>...</th>\n",
       "      <td>...</td>\n",
       "      <td>...</td>\n",
       "      <td>...</td>\n",
       "      <td>...</td>\n",
       "      <td>...</td>\n",
       "      <td>...</td>\n",
       "    </tr>\n",
       "    <tr>\n",
       "      <th>495</th>\n",
       "      <td>Img_00496</td>\n",
       "      <td>Neutrophil</td>\n",
       "      <td>round</td>\n",
       "      <td>unsegmented-band</td>\n",
       "      <td>no</td>\n",
       "      <td>NaN</td>\n",
       "    </tr>\n",
       "    <tr>\n",
       "      <th>496</th>\n",
       "      <td>Img_00497</td>\n",
       "      <td>Eosinophil</td>\n",
       "      <td>round</td>\n",
       "      <td>segmented-multilobed</td>\n",
       "      <td>no</td>\n",
       "      <td>NaN</td>\n",
       "    </tr>\n",
       "    <tr>\n",
       "      <th>497</th>\n",
       "      <td>Img_00498</td>\n",
       "      <td>Monocyte</td>\n",
       "      <td>irregular</td>\n",
       "      <td>unsegmented-round</td>\n",
       "      <td>no</td>\n",
       "      <td>NaN</td>\n",
       "    </tr>\n",
       "    <tr>\n",
       "      <th>498</th>\n",
       "      <td>Img_00499</td>\n",
       "      <td>Eosinophil</td>\n",
       "      <td>round</td>\n",
       "      <td>segmented-bilobed</td>\n",
       "      <td>no</td>\n",
       "      <td>NaN</td>\n",
       "    </tr>\n",
       "    <tr>\n",
       "      <th>499</th>\n",
       "      <td>Img_00500</td>\n",
       "      <td>Neutrophil</td>\n",
       "      <td>round</td>\n",
       "      <td>unsegmented-band</td>\n",
       "      <td>no</td>\n",
       "      <td>NaN</td>\n",
       "    </tr>\n",
       "  </tbody>\n",
       "</table>\n",
       "<p>500 rows × 6 columns</p>\n",
       "</div>"
      ],
      "text/plain": [
       "       imageID       label cell_shape         nucleus_shape cytoplasm_vacuole  \\\n",
       "0    Img_00001  Lymphocyte      round     unsegmented-round                no   \n",
       "1    Img_00002    Monocyte  irregular  unsegmented-indented                no   \n",
       "2    Img_00003    Monocyte  irregular             irregular               yes   \n",
       "3    Img_00004    Basophil      round  segmented-multilobed                no   \n",
       "4    Img_00005  Neutrophil      round      unsegmented-band                no   \n",
       "..         ...         ...        ...                   ...               ...   \n",
       "495  Img_00496  Neutrophil      round      unsegmented-band                no   \n",
       "496  Img_00497  Eosinophil      round  segmented-multilobed                no   \n",
       "497  Img_00498    Monocyte  irregular     unsegmented-round                no   \n",
       "498  Img_00499  Eosinophil      round     segmented-bilobed                no   \n",
       "499  Img_00500  Neutrophil      round      unsegmented-band                no   \n",
       "\n",
       "    Image  \n",
       "0     NaN  \n",
       "1     NaN  \n",
       "2     NaN  \n",
       "3     NaN  \n",
       "4     NaN  \n",
       "..    ...  \n",
       "495   NaN  \n",
       "496   NaN  \n",
       "497   NaN  \n",
       "498   NaN  \n",
       "499   NaN  \n",
       "\n",
       "[500 rows x 6 columns]"
      ]
     },
     "execution_count": 19,
     "metadata": {},
     "output_type": "execute_result"
    }
   ],
   "source": [
    "#defining function to load images\n",
    "def load_images(image_folder, image_list):\n",
    "    \"\"\"Returns a dictionary mapping image names to PIL image objects.\"\"\"\n",
    "    images = {}\n",
    "    for img_name in image_list:\n",
    "        img_path = os.path.join(image_folder, img_name)\n",
    "        try:\n",
    "            with Image.open(img_path) as img:\n",
    "                images[img_name] = img.copy()  \n",
    "        except Exception as e:\n",
    "            print(f\"Error loading {img_name}: {e}\")\n",
    "    return images\n",
    "\n",
    "#loading the images\n",
    "image_objects = load_images(image_path, data_labels['imageID']+\".jpg\")\n",
    "#adding a new column 'Image' to labels_main\n",
    "data_labels['Image'] = data_labels['imageID'].map(image_objects)\n",
    "data_labels.head(500)"
   ]
  },
  {
   "cell_type": "code",
   "execution_count": 17,
   "id": "9c0065f8-bda2-426b-b246-9741a816e7a5",
   "metadata": {},
   "outputs": [
    {
     "name": "stdout",
     "output_type": "stream",
     "text": [
      "     imageID       label cell_shape         nucleus_shape cytoplasm_vacuole  \\\n",
      "0  Img_00001  Lymphocyte      round     unsegmented-round                no   \n",
      "1  Img_00002    Monocyte  irregular  unsegmented-indented                no   \n",
      "2  Img_00003    Monocyte  irregular             irregular               yes   \n",
      "3  Img_00004    Basophil      round  segmented-multilobed                no   \n",
      "4  Img_00005  Neutrophil      round      unsegmented-band                no   \n",
      "\n",
      "  Image  \n",
      "0   NaN  \n",
      "1   NaN  \n",
      "2   NaN  \n",
      "3   NaN  \n",
      "4   NaN  \n"
     ]
    }
   ],
   "source": [
    "print(data_labels.head())\n",
    "\n"
   ]
  },
  {
   "cell_type": "code",
   "execution_count": null,
   "id": "919ae518-b567-4702-8c80-595474d77585",
   "metadata": {},
   "outputs": [],
   "source": []
  }
 ],
 "metadata": {
  "kernelspec": {
   "display_name": "conda_tensorflow2_p310",
   "language": "python",
   "name": "conda_tensorflow2_p310"
  },
  "language_info": {
   "codemirror_mode": {
    "name": "ipython",
    "version": 3
   },
   "file_extension": ".py",
   "mimetype": "text/x-python",
   "name": "python",
   "nbconvert_exporter": "python",
   "pygments_lexer": "ipython3",
   "version": "3.10.18"
  }
 },
 "nbformat": 4,
 "nbformat_minor": 5
}
